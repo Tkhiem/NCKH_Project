{
 "cells": [
  {
   "cell_type": "code",
   "execution_count": 1,
   "metadata": {},
   "outputs": [
    {
     "name": "stderr",
     "output_type": "stream",
     "text": [
      "d:\\Work\\PROJECT_ImageCaption\\.venv\\lib\\site-packages\\tensorflow_addons\\utils\\tfa_eol_msg.py:23: UserWarning: \n",
      "\n",
      "TensorFlow Addons (TFA) has ended development and introduction of new features.\n",
      "TFA has entered a minimal maintenance and release mode until a planned end of life in May 2024.\n",
      "Please modify downstream libraries to take dependencies from other repositories in our TensorFlow community (e.g. Keras, Keras-CV, and Keras-NLP). \n",
      "\n",
      "For more information see: https://github.com/tensorflow/addons/issues/2807 \n",
      "\n",
      "  warnings.warn(\n"
     ]
    },
    {
     "name": "stdout",
     "output_type": "stream",
     "text": [
      "Successfully loaded ONNX model.\n",
      "Successfully converted ONNX model to TensorFlow format.\n"
     ]
    },
    {
     "name": "stderr",
     "output_type": "stream",
     "text": [
      "WARNING:absl:Found untraced functions such as gen_tensor_dict while saving (showing 1 of 1). These functions will not be directly callable after loading.\n"
     ]
    },
    {
     "name": "stdout",
     "output_type": "stream",
     "text": [
      "INFO:tensorflow:Assets written to: ./tf_model\\assets\n"
     ]
    },
    {
     "name": "stderr",
     "output_type": "stream",
     "text": [
      "INFO:tensorflow:Assets written to: ./tf_model\\assets\n"
     ]
    },
    {
     "name": "stdout",
     "output_type": "stream",
     "text": [
      "Model has been converted and saved to ./tf_model\n"
     ]
    }
   ],
   "source": [
    "import onnx # type: ignore\n",
    "from onnx_tf.backend import prepare # type: ignore\n",
    "\n",
    "# Tải mô hình ONNX từ đường dẫn\n",
    "onnx_model_path = './model.onnx'  # Đường dẫn tới file ONNX\n",
    "try:\n",
    "    onnx_model = onnx.load(onnx_model_path)\n",
    "    print(\"Successfully loaded ONNX model.\")\n",
    "except Exception as e:\n",
    "    print(f\"Error loading ONNX model: {e}\")\n",
    "    exit()\n",
    "\n",
    "# Chuyển đổi mô hình ONNX sang TensorFlow\n",
    "try:\n",
    "    tf_rep = prepare(onnx_model)\n",
    "    print(\"Successfully converted ONNX model to TensorFlow format.\")\n",
    "except Exception as e:\n",
    "    print(f\"Error during conversion: {e}\")\n",
    "    exit()\n",
    "\n",
    "# Lưu mô hình TensorFlow\n",
    "tf_model_path = './tf_model'  # Đường dẫn lưu mô hình TensorFlow\n",
    "try:\n",
    "    tf_rep.export_graph(tf_model_path)\n",
    "    print(f\"Model has been converted and saved to {tf_model_path}\")\n",
    "except Exception as e:\n",
    "    print(f\"Error saving TensorFlow model: {e}\")\n"
   ]
  },
  {
   "cell_type": "code",
   "execution_count": 2,
   "metadata": {},
   "outputs": [
    {
     "name": "stdout",
     "output_type": "stream",
     "text": [
      "Model has been converted to TensorFlow Lite format and saved at ./model.tflite\n"
     ]
    }
   ],
   "source": [
    "import tensorflow as tf\n",
    "\n",
    "# Đường dẫn mô hình TensorFlow đã lưu\n",
    "tf_model_path = './tf_model'\n",
    "\n",
    "# Đường dẫn lưu mô hình TensorFlow Lite\n",
    "tflite_model_path = './model.tflite'\n",
    "\n",
    "try:\n",
    "    # Tải mô hình TensorFlow\n",
    "    loaded_model = tf.saved_model.load(tf_model_path)\n",
    "\n",
    "    # Chuyển đổi mô hình sang TFLite\n",
    "    converter = tf.lite.TFLiteConverter.from_saved_model(tf_model_path)\n",
    "    tflite_model = converter.convert()\n",
    "\n",
    "    # Lưu mô hình TFLite vào file\n",
    "    with open(tflite_model_path, 'wb') as f:\n",
    "        f.write(tflite_model)\n",
    "\n",
    "    print(f\"Model has been converted to TensorFlow Lite format and saved at {tflite_model_path}\")\n",
    "\n",
    "except Exception as e:\n",
    "    print(f\"Error during conversion to TFLite: {e}\")\n"
   ]
  },
  {
   "cell_type": "code",
   "execution_count": null,
   "metadata": {},
   "outputs": [],
   "source": []
  }
 ],
 "metadata": {
  "kernelspec": {
   "display_name": ".venv",
   "language": "python",
   "name": "python3"
  },
  "language_info": {
   "codemirror_mode": {
    "name": "ipython",
    "version": 3
   },
   "file_extension": ".py",
   "mimetype": "text/x-python",
   "name": "python",
   "nbconvert_exporter": "python",
   "pygments_lexer": "ipython3",
   "version": "3.10.0rc2"
  }
 },
 "nbformat": 4,
 "nbformat_minor": 2
}
